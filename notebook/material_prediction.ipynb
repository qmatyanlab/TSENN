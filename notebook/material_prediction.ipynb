{
 "cells": [
  {
   "cell_type": "code",
   "execution_count": 1,
   "metadata": {},
   "outputs": [
    {
     "name": "stdout",
     "output_type": "stream",
     "text": [
      "torch device: cuda:0\n"
     ]
    }
   ],
   "source": [
    "import os\n",
    "import sys\n",
    "\n",
    "# Get the absolute path of the current notebook's directory\n",
    "notebook_dir = os.getcwd()\n",
    "parent_dir = os.path.abspath(os.path.join(notebook_dir, \"..\"))\n",
    "sys.path.append(parent_dir)  # Add parent directory to sys.path\n",
    "\n",
    "# model\n",
    "import torch\n",
    "import torch.nn as nn\n",
    "import torch.nn.functional as F\n",
    "import torch_geometric as tg\n",
    "import torch_scatter\n",
    "import e3nn\n",
    "from e3nn import o3\n",
    "from typing import Dict, Union\n",
    "\n",
    "# crystal structure data\n",
    "from ase import Atom, Atoms\n",
    "from ase.neighborlist import neighbor_list\n",
    "from ase.visualize.plot import plot_atoms\n",
    "palette = ['#43AA8B', '#F8961E', '#F94144']\n",
    "sub = str.maketrans(\"0123456789\", \"₀₁₂₃₄₅₆₇₈₉\")\n",
    "\n",
    "# data pre-processing and visualization\n",
    "import numpy as np\n",
    "import matplotlib as mpl\n",
    "import matplotlib.pyplot as plt\n",
    "from matplotlib.lines import Line2D\n",
    "import seaborn as sns\n",
    "from mpl_toolkits.axes_grid1.inset_locator import inset_axes\n",
    "import pandas as pd\n",
    "from scipy.interpolate import interp1d\n",
    "import math\n",
    "import e3nn.o3 as o3\n",
    "from e3nn.util.jit import compile_mode\n",
    "from e3nn.io import CartesianTensor\n",
    "from e3nn.o3 import wigner_D, so3_generators\n",
    "\n",
    "# supress error log from font\n",
    "import logging\n",
    "logging.getLogger('matplotlib.font_manager').setLevel(level=logging.CRITICAL)\n",
    "# utilities\n",
    "import time\n",
    "from mendeleev import element\n",
    "from tqdm import tqdm\n",
    "from utils.utils_data import (load_data, train_valid_test_split, save_or_load_onehot, build_data, plot_spherical_harmonics_comparison, plot_cartesian_tensor_comparison)\n",
    "from utils.utils_model_full_tensor import Network, train, evaluate\n",
    "import wandb\n",
    "\n",
    "plt.rcParams[\"mathtext.fontset\"] = \"cm\"\n",
    "\n",
    "bar_format = '{l_bar}{bar:10}{r_bar}{bar:-10b}'\n",
    "default_dtype = torch.float64\n",
    "torch.set_default_dtype(default_dtype)\n",
    "\n",
    "# Create a colormap based on the number of unique symbols\n",
    "datasets = ['g', 'y', 'r']\n",
    "colors = dict(zip(datasets, palette))\n",
    "cmap = mpl.colors.LinearSegmentedColormap.from_list('cmap', [palette[k] for k in [0,2,1]])\n",
    "\n",
    "\n",
    "# Check device\n",
    "device = \"cuda:0\" if torch.cuda.is_available() else \"cpu\"\n",
    "print('torch device:' , device)\n"
   ]
  },
  {
   "cell_type": "code",
   "execution_count": 2,
   "metadata": {},
   "outputs": [
    {
     "data": {
      "application/vnd.jupyter.widget-view+json": {
       "model_id": "39a2102cc83443eeaae596864df5f245",
       "version_major": 2,
       "version_minor": 0
      },
      "text/plain": [
       "Retrieving MaterialsDoc documents:   0%|          | 0/1 [00:00<?, ?it/s]"
      ]
     },
     "metadata": {},
     "output_type": "display_data"
    },
    {
     "name": "stdout",
     "output_type": "stream",
     "text": [
      "Material ID: mp-3953\n",
      "Spacegroup (before refinement): R-3c\n",
      "Spacegroup (after refinement): R-3c\n",
      "Number of atoms in ASE object: 30\n",
      "Chemical symbols: ['Ca', 'Ca', 'Ca', 'Ca', 'Ca', 'Ca', 'C', 'C', 'C', 'C', 'C', 'C', 'O', 'O', 'O', 'O', 'O', 'O', 'O', 'O', 'O', 'O', 'O', 'O', 'O', 'O', 'O', 'O', 'O', 'O']\n",
      "Cell parameters: Cell([[5.006801275052416, 0.0, 0.0], [-2.503400637526208, 4.33601709589571, 0.0], [0.0, 0.0, 16.990127897630487]])\n"
     ]
    }
   ],
   "source": [
    "from pymatgen.ext.matproj import MPRester\n",
    "from pymatgen.analysis.structure_analyzer import SpacegroupAnalyzer\n",
    "from pymatgen.io.ase import AseAtomsAdaptor\n",
    "\n",
    "# Replace with your Materials Project API key\n",
    "API_KEY = \"{}\"\n",
    "MATERIAL_ID = \"mp-3953\"  # Example Material ID (e.g., Silicon)\n",
    "\n",
    "# Step 1: Query the material by Material ID and get the structure\n",
    "with MPRester(API_KEY) as mpr:\n",
    "    structure = mpr.get_structure_by_material_id(MATERIAL_ID)\n",
    "\n",
    "# Step 2: Use SpacegroupAnalyzer to refine the structure\n",
    "sym_prec = 1e-2\n",
    "spacegroup_analyzer = SpacegroupAnalyzer(structure, symprec=sym_prec)\n",
    "refined_structure = spacegroup_analyzer.get_refined_structure()\n",
    "\n",
    "# Step 3: Convert the refined structure to an ASE Atoms object\n",
    "ase_atoms = AseAtomsAdaptor.get_atoms(refined_structure)\n",
    "crystal_system = spacegroup_analyzer.get_crystal_system()\n",
    "\n",
    "# Optional: Print some details to verify\n",
    "print(f\"Material ID: {MATERIAL_ID}\")\n",
    "print(f\"Spacegroup (before refinement): {spacegroup_analyzer.get_space_group_symbol()}\")\n",
    "print(f\"Spacegroup (after refinement): {SpacegroupAnalyzer(refined_structure).get_space_group_symbol()}\")\n",
    "print(f\"Number of atoms in ASE object: {len(ase_atoms)}\")\n",
    "print(f\"Chemical symbols: {ase_atoms.get_chemical_symbols()}\")\n",
    "print(f\"Cell parameters: {ase_atoms.cell}\")\n"
   ]
  },
  {
   "cell_type": "code",
   "execution_count": 3,
   "metadata": {},
   "outputs": [],
   "source": [
    "# Path to your CIF file\n",
    "# cif_file_path = './Si-defect.cif'\n",
    "\n",
    "# Reading the CIF file\n",
    "# struct = read(cif_file_path)\n",
    "\n",
    "# Extracting atomic positions\n",
    "positions = ase_atoms.get_positions()\n",
    "\n",
    "# Extracting the chemical formula\n",
    "formula = ase_atoms.get_chemical_formula()\n",
    "\n",
    "# Extracting atomic symbols\n",
    "symbols = ase_atoms.get_chemical_symbols()\n",
    "z = dict(zip(symbols, range(len(symbols))))\n",
    "\n",
    "# Extracting cell dimensions\n",
    "cell = ase_atoms.get_cell()\n"
   ]
  },
  {
   "cell_type": "code",
   "execution_count": null,
   "metadata": {},
   "outputs": [
    {
     "name": "stdout",
     "output_type": "stream",
     "text": [
      "Loading existing data...\n",
      "(1, 301, 6)\n",
      "9.646872467049155\n"
     ]
    },
    {
     "name": "stderr",
     "output_type": "stream",
     "text": [
      "100%|██████████| 1/1 [00:00<00:00, 11.24it/s]\n",
      "\u001b[34m\u001b[1mwandb\u001b[0m: Currently logged in as: \u001b[33mhsu-ting\u001b[0m (\u001b[33mhsu-ting-northeastern-university\u001b[0m) to \u001b[32mhttps://api.wandb.ai\u001b[0m. Use \u001b[1m`wandb login --relogin`\u001b[0m to force relogin\n"
     ]
    },
    {
     "data": {
      "text/html": [
       "Tracking run with wandb version 0.19.10"
      ],
      "text/plain": [
       "<IPython.core.display.HTML object>"
      ]
     },
     "metadata": {},
     "output_type": "display_data"
    },
    {
     "data": {
      "text/html": [
       "Run data is saved locally in <code>/home/angush/StepENN/notebook/wandb/run-20250505_120020-4uu0k20w</code>"
      ],
      "text/plain": [
       "<IPython.core.display.HTML object>"
      ]
     },
     "metadata": {},
     "output_type": "display_data"
    },
    {
     "data": {
      "text/html": [
       "Syncing run <strong><a href='https://wandb.ai/hsu-ting-northeastern-university/Inference/runs/4uu0k20w' target=\"_blank\">symmetrized_data_model_im_250424_for_paper_2</a></strong> to <a href='https://wandb.ai/hsu-ting-northeastern-university/Inference' target=\"_blank\">Weights & Biases</a> (<a href='https://wandb.me/developer-guide' target=\"_blank\">docs</a>)<br>"
      ],
      "text/plain": [
       "<IPython.core.display.HTML object>"
      ]
     },
     "metadata": {},
     "output_type": "display_data"
    },
    {
     "data": {
      "text/html": [
       " View project at <a href='https://wandb.ai/hsu-ting-northeastern-university/Inference' target=\"_blank\">https://wandb.ai/hsu-ting-northeastern-university/Inference</a>"
      ],
      "text/plain": [
       "<IPython.core.display.HTML object>"
      ]
     },
     "metadata": {},
     "output_type": "display_data"
    },
    {
     "data": {
      "text/html": [
       " View run at <a href='https://wandb.ai/hsu-ting-northeastern-university/Inference/runs/4uu0k20w' target=\"_blank\">https://wandb.ai/hsu-ting-northeastern-university/Inference/runs/4uu0k20w</a>"
      ],
      "text/plain": [
       "<IPython.core.display.HTML object>"
      ]
     },
     "metadata": {},
     "output_type": "display_data"
    },
    {
     "name": "stderr",
     "output_type": "stream",
     "text": [
      "100%|██████████| 1/1 [00:00<00:00,  1.63it/s]\n"
     ]
    }
   ],
   "source": [
    "# Parameters\n",
    "energy_min = 0  # eV\n",
    "energy_max = 30  # eV\n",
    "nstep = 301\n",
    "new_x = np.linspace(energy_min, energy_max, nstep)\n",
    "\n",
    "# Build structure\n",
    "atoms = Atoms(symbols=symbols, positions=positions, cell=cell, pbc=True)\n",
    "\n",
    "# Dummy permittivity tensor (symmetric 3x3 tensor for each energy)\n",
    "dummy_tensor = np.zeros((nstep, 3, 3))\n",
    "\n",
    "# Build DataFrame\n",
    "df = pd.DataFrame({\n",
    "    \"id\": [0],\n",
    "    \"formula\": [formula],\n",
    "    \"symmetrized_structure\": [atoms],\n",
    "    \"energies_interp\": [new_x],\n",
    "    \"imag_Permittivity_Matrices_interp\": [dummy_tensor],\n",
    "    \"crystal_system\":[crystal_system]\n",
    "})\n",
    "\n",
    "# Prepare tensor\n",
    "x = CartesianTensor(\"ij=ji\")  # Symmetric rank-2 tensor\n",
    "# Extract the numpy array from the first row and convert to torch tensor\n",
    "place_holder = torch.from_numpy(df['imag_Permittivity_Matrices_interp'].iloc[0]).float()  # shape: (301, 3, 3)\n",
    "# Convert from Cartesian to spherical irreps\n",
    "sph_coefs_tensor = x.from_cartesian(place_holder)  # shape: (301, ...depending on irreps)\n",
    "\n",
    "df['sph_coefs'] = [sph_coefs_tensor.cpu().numpy()]\n",
    "\n",
    "type_onehot, mass_onehot, dipole_onehot, radius_onehot, type_encoding = save_or_load_onehot()\n",
    "\n",
    "# Find the scaling value\n",
    "tmp = np.array([df.iloc[i]['sph_coefs'] for i in range(len(df))])\n",
    "print(tmp.shape)\n",
    "scale_data = 9.646872467049155\n",
    "n_train = 40\n",
    "print(scale_data)\n",
    "\n",
    "\n",
    "r_max = 6. # cutoff radius\n",
    "df['data'] = df.progress_apply(lambda x: build_data(x, 'sph_coefs', scale_data, type_onehot, mass_onehot, dipole_onehot, radius_onehot, type_encoding, r_max), axis=1)\n",
    "\n",
    "run_time = '250424'\n",
    "with open('../model/idx_train_'+run_time+'.txt', 'r') as f: idx_train = [int(i.split('\\n')[0]) for i in f.readlines()]\n",
    "with open('../model/idx_valid_'+run_time+'.txt', 'r') as f: idx_valid = [int(i.split('\\n')[0]) for i in f.readlines()]\n",
    "with open('../model/idx_test_'+run_time+'.txt', 'r') as f: idx_test = [int(i.split('\\n')[0]) for i in f.readlines()]\n",
    "\n",
    "\n",
    "## NN part\n",
    "class MixingLinear(nn.Module):\n",
    "    def __init__(self, in_feature, out_feature):\n",
    "        super(MixingLinear, self).__init__()\n",
    "        self.in_feature = in_feature\n",
    "        self.out_feature = out_feature\n",
    "        self.weight = nn.Parameter(torch.Tensor(self.out_feature, self.in_feature))\n",
    "        self.reset_parameters()\n",
    "\n",
    "    def reset_parameters(self):\n",
    "        nn.init.kaiming_uniform_(self.weight, a=5**0.5)\n",
    "\n",
    "    def forward(self, x):\n",
    "        weight = torch.abs(self.weight)/(torch.sum(torch.abs(self.weight), dim=1, keepdim=True)+1e-10)\n",
    "        return F.linear(x, weight)\n",
    "class PeriodicNetwork(Network):\n",
    "    def __init__(self, in_dim, em_dim , **kwargs):            \n",
    "        # override the `reduce_output` keyword to instead perform an averge over atom contributions    \n",
    "        self.pool = False\n",
    "        if kwargs['reduce_output'] == True:\n",
    "            kwargs['reduce_output'] = False\n",
    "            self.pool = True\n",
    "            \n",
    "        super().__init__(**kwargs)\n",
    "\n",
    "        self.em_z = nn.Linear(in_dim, em_dim)    #Linear layer for atom type\n",
    "        self.em_x = nn.Linear(in_dim, em_dim)    #Linear layer for atom type\n",
    "\n",
    "    def forward(self, data: Union[tg.data.Data, Dict[str, torch.Tensor]]) -> torch.Tensor:\n",
    "        data.z = F.relu(self.em_z(data.z))\n",
    "        data.x = F.relu(self.em_x(data.x))\n",
    "\n",
    "        # data.x_mass = F.relu(self.em_mass(data.x_mass))\n",
    "        # data.x_dipole = F.relu(self.em_dipole(data.x_dipole))\n",
    "        # data.x_radius = F.relu(self.em_radius(data.x_radius))\n",
    "        # crystal_system_embed = F.relu(self.em_crystal_system(data.crystal_system_onehot))  # Shape: (em_dim,)\n",
    "        # num_nodes = data.x_mass.shape[0]\n",
    "        # if hasattr(data, 'batch') and data.batch is not None:\n",
    "        #     crystal_system_embed = crystal_system_embed[data.batch]  # Shape: (num_nodes, em_dim)\n",
    "        # else:\n",
    "        #     # Single graph case: repeat for all nodes\n",
    "        #     crystal_system_embed = crystal_system_embed.squeeze(0).repeat(num_nodes, 1)  # Shape: (num_nodes, em_dim)    \n",
    "            \n",
    "        # # tmp = torch.stack([data.x_mass, data.x_dipole, data.x_radius, crystal_system_embed], dim=0)  # Shape: (4, num_nodes, em_dim)        \n",
    "        # tmp = torch.stack([data.x_mass, data.x_dipole, data.x_radius], dim=0)  # Shape: (3, num_nodes, em_dim)        \n",
    "\n",
    "        # tmp2 = torch.permute(tmp, (1, 2, 0))                                       # permute the tensor to (N, em_dim, 3)\n",
    "        # data.x = torch.permute(self.em_mixing(tmp2),(2, 0, 1)).reshape(-1, em_dim) # reshape the tensor to (N, em_dim)\n",
    "        output = super().forward(data)\n",
    "        # RELU issue, from e3nn discussion, removing because it might break the symmetry\n",
    "        #output = torch.relu(output)\n",
    "        \n",
    "        # if pool_nodes was set to True, use scatter_mean to aggregate\n",
    "        if self.pool == True:\n",
    "            output = torch_scatter.scatter_mean(output, data.batch, dim=0)  # take mean over atoms per example\n",
    "            # output = torch_scatter.scatter_add(output, data.batch, dim=0)  # take mean over atoms per example\n",
    "            # output, _ = torch_scatter.scatter_max(output, data.batch, dim=0)  # max over atoms per examples\n",
    "        return output\n",
    "\n",
    "out_dim = len(df.iloc[0]['energies_interp'])      # about 200 points\n",
    "em_dim = 64\n",
    "\n",
    "\n",
    "use_batch_norm = False\n",
    "dropout_prob=0\n",
    "\n",
    "model = PeriodicNetwork(\n",
    "    in_dim=118,\n",
    "    em_dim=em_dim,\n",
    "    irreps_in=str(em_dim)+\"x0e\",\n",
    "    irreps_out=str(out_dim)+\"x0e +\" + str(out_dim) + \"x2e\",\n",
    "    irreps_node_attr=str(em_dim)+\"x0e\",\n",
    "    layers=2,\n",
    "    mul=32,\n",
    "    lmax=2,\n",
    "    max_radius=r_max,\n",
    "    num_neighbors=n_train,\n",
    "    reduce_output=True,\n",
    "    dropout_prob=dropout_prob,\n",
    "    use_batch_norm = use_batch_norm\n",
    ")\n",
    "run_name = f'symmetrized_data_model_im_{run_time}_for_paper_2'\n",
    "\n",
    "wandb.init(\n",
    "    project=\"Inference\",  # Change this to your project name\n",
    "    name=run_name,  # Unique identifier for this run\n",
    "    config={\n",
    "    }\n",
    ")\n",
    "\n",
    "# predict on all data\n",
    "model.load_state_dict(torch.load('../model/'+run_name + '_best.torch', map_location=device)['state'])\n",
    "model.pool = True\n",
    "\n",
    "dataloader = tg.loader.DataLoader(df['data'].values, batch_size=64)\n",
    "df['mse_sph'] = 0.\n",
    "df['y_pred_sph'] = np.empty((len(df), 0)).tolist()\n",
    "\n",
    "model.to(device)\n",
    "model.eval()\n",
    "\n",
    "predictions = [] \n",
    "df['y_pred_sph'] = None\n",
    "i0 = 0\n",
    "with torch.no_grad():\n",
    "    for i, d in tqdm(enumerate(dataloader), total=len(dataloader), bar_format=bar_format):\n",
    "        d.to(device)\n",
    "        output = model(d)\n",
    "        \n",
    "        irreps_0e = model.irreps_out.count(o3.Irrep(\"0e\"))\n",
    "        irreps_2e = model.irreps_out.count(o3.Irrep(\"2e\")) * 5\n",
    "        out_dim = model.irreps_out.count(o3.Irrep(\"0e\")) \n",
    "        \n",
    "        output_0e = output[:, :irreps_0e]  # Shape: (batch_size, irreps_0e)\n",
    "        output_2e = output[:, irreps_0e:irreps_0e + irreps_2e].contiguous().view(output.shape[0], out_dim, 5)  \n",
    "\n",
    "        y_0e = d.y[:, :, 0].view(d.y.shape[0], out_dim) \n",
    "        y_2e = d.y[:, :, 1:].view(d.y.shape[0], out_dim, 5)  \n",
    "\n",
    "        loss_0e = F.mse_loss(output_0e, y_0e)   \n",
    "        loss_2e = F.mse_loss(output_2e, y_2e)   \n",
    "        loss = loss_0e + loss_2e\n",
    "        \n",
    "        combined_output = torch.cat([output_0e.unsqueeze(2), output_2e], dim=2)  \n",
    "        predictions.append(combined_output.cpu())\n",
    "\n",
    "        for batch_idx in range(d.y.shape[0]):\n",
    "            df.loc[i0 + batch_idx, 'y_pred_sph'] = [combined_output[batch_idx].cpu().numpy()]\n",
    "            df.loc[i0 + batch_idx, 'mse_sph'] = loss.cpu().numpy() * scale_data\n",
    "\n",
    "        # Update batch index counter\n",
    "        i0 += d.y.shape[0]\n",
    "\n",
    "column = 'imag_Permittivity_Matrices_interp'\n",
    "\n",
    "df['y_pred_sph'] = df['y_pred_sph'].map(lambda x: x[0]) * scale_data\n",
    "\n",
    "\n",
    "# Convert all spherical tensors to a batched tensor\n",
    "sph_tensors = torch.tensor(np.stack(df['y_pred_sph'].values))  # Batch process\n",
    "\n",
    "# Convert using x.to_cartesian in batch\n",
    "cart_tensors = x.to_cartesian(sph_tensors)\n",
    "\n",
    "# Assign back to the DataFrame\n",
    "df['y_pred_cart'] = list(cart_tensors.numpy())  # Convert back to list of NumPy arrays\n"
   ]
  },
  {
   "cell_type": "code",
   "execution_count": 5,
   "metadata": {},
   "outputs": [
    {
     "data": {
      "image/png": "[encoded data removed]",
      "text/plain": [
       "<Figure size 640x480 with 1 Axes>"
      ]
     },
     "metadata": {},
     "output_type": "display_data"
    }
   ],
   "source": [
    "for i in range(3):\n",
    "    for j in range(i,3):\n",
    "        plt.plot(df.iloc[0][\"energies_interp\"], df.iloc[0][\"y_pred_cart\"][:,i,j])\n",
    "plt.show()"
   ]
  },
  {
   "cell_type": "code",
   "execution_count": null,
   "metadata": {},
   "outputs": [],
   "source": []
  }
 ],
 "metadata": {
  "kernelspec": {
   "display_name": "pytorch_env",
   "language": "python",
   "name": "python3"
  },
  "language_info": {
   "codemirror_mode": {
    "name": "ipython",
    "version": 3
   },
   "file_extension": ".py",
   "mimetype": "text/x-python",
   "name": "python",
   "nbconvert_exporter": "python",
   "pygments_lexer": "ipython3",
   "version": "3.11.11"
  }
 },
 "nbformat": 4,
 "nbformat_minor": 2
}
